{
 "cells": [
  {
   "cell_type": "markdown",
   "metadata": {},
   "source": [
    "## Object oriented programming"
   ]
  },
  {
   "cell_type": "code",
   "execution_count": null,
   "metadata": {},
   "outputs": [],
   "source": [
    " #classification of real world entity, is class"
   ]
  },
  {
   "cell_type": "code",
   "execution_count": null,
   "metadata": {},
   "outputs": [],
   "source": [
    "#modular code, reusability, abstraction"
   ]
  },
  {
   "cell_type": "code",
   "execution_count": 1,
   "metadata": {},
   "outputs": [],
   "source": [
    "class car:\n",
    "    pass"
   ]
  },
  {
   "cell_type": "code",
   "execution_count": 2,
   "metadata": {},
   "outputs": [],
   "source": [
    "audiq7=car()#variable of a class"
   ]
  },
  {
   "cell_type": "code",
   "execution_count": 5,
   "metadata": {},
   "outputs": [],
   "source": [
    "#class is car\n",
    "#variables of car class are below\n",
    "audiq7.mileage=10#complete variable name associated with car class\n",
    "audiq7.year=2022\n",
    "audiq7.make=233\n",
    "audiq7.model=\"VXI\""
   ]
  },
  {
   "cell_type": "code",
   "execution_count": 6,
   "metadata": {},
   "outputs": [
    {
     "data": {
      "text/plain": [
       "10"
      ]
     },
     "execution_count": 6,
     "metadata": {},
     "output_type": "execute_result"
    }
   ],
   "source": [
    "audiq7.mileage"
   ]
  },
  {
   "cell_type": "code",
   "execution_count": 7,
   "metadata": {},
   "outputs": [
    {
     "data": {
      "text/plain": [
       "2022"
      ]
     },
     "execution_count": 7,
     "metadata": {},
     "output_type": "execute_result"
    }
   ],
   "source": [
    "audiq7.year"
   ]
  },
  {
   "cell_type": "code",
   "execution_count": 8,
   "metadata": {},
   "outputs": [],
   "source": [
    "nano=car()#nano is object of class car"
   ]
  },
  {
   "cell_type": "code",
   "execution_count": 11,
   "metadata": {},
   "outputs": [],
   "source": [
    "nano.mileage=20\n",
    "nano.year=2022\n",
    "nano.make=123\n",
    "nano.model=\"vx\"\n",
    "nano.engine=12423423423"
   ]
  },
  {
   "cell_type": "code",
   "execution_count": 12,
   "metadata": {},
   "outputs": [
    {
     "name": "stdout",
     "output_type": "stream",
     "text": [
      "20 10\n"
     ]
    }
   ],
   "source": [
    "print(nano.mileage,audiq7.mileage)"
   ]
  },
  {
   "cell_type": "code",
   "execution_count": 1,
   "metadata": {},
   "outputs": [],
   "source": [
    "class car :\n",
    "    def __init__(self , milage, year , make , model):\n",
    "        #default function, called everytime the class car is defined, input/pass all variables in argument\n",
    "        self.milage = milage\n",
    "        self.year = year\n",
    "        self.make = make \n",
    "        self.model = model"
   ]
  },
  {
   "cell_type": "code",
   "execution_count": 2,
   "metadata": {},
   "outputs": [],
   "source": [
    "nano1 = car(20, 2020 , 345324,\"234fsdf\")\n",
    "audiq71 = car(10,2020,543,\"sdff\")\n",
    "nano2 = car(20, 2020 , 345324,\"234fsdf\")\n",
    "audiq72= car(10,2020,543,\"sdff\")\n",
    "nano3= car(20, 2020 , 345324,\"234fsdf\")\n",
    "audiq75 = car(10,2020,543,\"sdff\")\n",
    "nano6 = car(20, 2020 , 345324,\"234fsdf\")\n",
    "audiq7678 = car(10,2020,543,\"sdff\")\n",
    "nano21 = car(20, 2020 , 345324,\"234fsdf\")\n",
    "audiq754 = car(10,2020,543,\"sdff\")\n",
    "nano67 = car(20, 2020 , 345324,\"234fsdf\")\n",
    "audiq789 = car(10,2020,543,\"sdff\")"
   ]
  },
  {
   "cell_type": "code",
   "execution_count": 3,
   "metadata": {},
   "outputs": [
    {
     "data": {
      "text/plain": [
       "20"
      ]
     },
     "execution_count": 3,
     "metadata": {},
     "output_type": "execute_result"
    }
   ],
   "source": [
    "nano1.milage"
   ]
  },
  {
   "cell_type": "code",
   "execution_count": 4,
   "metadata": {},
   "outputs": [],
   "source": [
    "class car :\n",
    "    def __init__(a, m, y , ma , mo):\n",
    "        #a==self is a pointer\n",
    "        #m,y,ma,m are pointer\n",
    "        #a.milage,a.year etc are class variable\n",
    "        a.milage = m\n",
    "        a.year = y\n",
    "        a.make = ma\n",
    "        a.model = mo\n",
    "        \n",
    "    def age(b,current_year):\n",
    "        #b is a pointer\n",
    "        return current_year - b.year\n",
    "    \n",
    "    \n",
    "    def milage1(self):\n",
    "        #self is a pointer\n",
    "        print(\"print a milage of car \" , self.milage)\n",
    "        #return self.milage\n",
    "        \n",
    "    def __str__(c):\n",
    "        #default function\n",
    "        return \"this is my car class i have created \""
   ]
  },
  {
   "cell_type": "code",
   "execution_count": 5,
   "metadata": {},
   "outputs": [],
   "source": [
    "nano67 = car(20, 2020 , 345324,\"234fsdf\")"
   ]
  },
  {
   "cell_type": "code",
   "execution_count": 6,
   "metadata": {},
   "outputs": [
    {
     "name": "stdout",
     "output_type": "stream",
     "text": [
      "print a milage of car  20\n"
     ]
    }
   ],
   "source": [
    "nano67.milage1()"
   ]
  },
  {
   "cell_type": "code",
   "execution_count": 7,
   "metadata": {},
   "outputs": [
    {
     "data": {
      "text/plain": [
       "1"
      ]
     },
     "execution_count": 7,
     "metadata": {},
     "output_type": "execute_result"
    }
   ],
   "source": [
    "nano67.age(2021)"
   ]
  },
  {
   "cell_type": "code",
   "execution_count": 8,
   "metadata": {},
   "outputs": [
    {
     "name": "stdout",
     "output_type": "stream",
     "text": [
      "this is my car class i have created \n"
     ]
    }
   ],
   "source": [
    "print(nano67)"
   ]
  },
  {
   "cell_type": "code",
   "execution_count": 23,
   "metadata": {},
   "outputs": [],
   "source": [
    "class student:\n",
    "    \n",
    "    def __init__(self , name , rollno , joining_date , current_topic):\n",
    "        self.name = name \n",
    "        self.rollno = rollno\n",
    "        self.joining_date =  joining_date\n",
    "        self.current_topic = current_topic\n",
    "        \n",
    "        \n",
    "    def name_Parsing(self) :\n",
    "\n",
    "        if type(self.name) == list:\n",
    "            for i in self.name :\n",
    "                print(\"name of the stuent \" , i )\n",
    "        else : \n",
    "            print(\"provided name is not in a form of list \")\n",
    "    \n",
    "        \n",
    "    def crt_topic(self):\n",
    "        print(\"current topic discussed in my class is \" , self.current_topic)\n",
    "        \n",
    "    def str_rollno(self):\n",
    "        \n",
    "        try :\n",
    "        \n",
    "            if type(self.rollno) == str:\n",
    "                print(\"do nothing \")\n",
    "\n",
    "            else :\n",
    "                return str(self.rollno)\n",
    "        except Exception as e  :\n",
    "            \n",
    "            print(\"this is my erro msg \" , e )\n",
    "        \n",
    "        \n",
    "    def duration(self,*current_date) :\n",
    "        \n",
    "        print(\"duration of student in my class is \" , current_date- self.joining_date)\n",
    "        \n",
    "    def __str__(self):\n",
    "        \n",
    "        \n",
    "        return \"this is strudent class where they can tyr to input there own data and they can try to fetch it \"\n",
    "          "
   ]
  },
  {
   "cell_type": "code",
   "execution_count": 24,
   "metadata": {},
   "outputs": [
    {
     "name": "stdout",
     "output_type": "stream",
     "text": [
      "this is strudent class where they can tyr to input there own data and they can try to fetch it \n"
     ]
    }
   ],
   "source": [
    "srini = student(\"srini\" , \"####\", 2021,\"oops\")\n",
    "print(srini)"
   ]
  },
  {
   "cell_type": "code",
   "execution_count": 22,
   "metadata": {},
   "outputs": [
    {
     "name": "stdout",
     "output_type": "stream",
     "text": [
      "duration of student in my class is  0\n"
     ]
    }
   ],
   "source": [
    "srini.duration(2021)"
   ]
  },
  {
   "cell_type": "code",
   "execution_count": 13,
   "metadata": {},
   "outputs": [
    {
     "name": "stdout",
     "output_type": "stream",
     "text": [
      "do nothing \n"
     ]
    }
   ],
   "source": [
    "srini.str_rollno()"
   ]
  },
  {
   "cell_type": "code",
   "execution_count": 14,
   "metadata": {},
   "outputs": [
    {
     "name": "stdout",
     "output_type": "stream",
     "text": [
      "this is strudent class where they can tyr to input there own data and they can try to fetch it \n"
     ]
    }
   ],
   "source": [
    "print(srini)"
   ]
  },
  {
   "cell_type": "code",
   "execution_count": 15,
   "metadata": {},
   "outputs": [],
   "source": [
    "marur  = student(\"marur\",\"dfsf\" , 55345,345)"
   ]
  },
  {
   "cell_type": "code",
   "execution_count": 16,
   "metadata": {},
   "outputs": [],
   "source": [
    "pawan = student([\"naveen\",\"jay\" , \"himnashu \" , \"prakash \" ] ,[234,2423,423,34,234], 2021 , \"oops\" )"
   ]
  },
  {
   "cell_type": "code",
   "execution_count": 17,
   "metadata": {},
   "outputs": [
    {
     "data": {
      "text/plain": [
       "['naveen', 'jay', 'himnashu ', 'prakash ']"
      ]
     },
     "execution_count": 17,
     "metadata": {},
     "output_type": "execute_result"
    }
   ],
   "source": [
    "pawan.name"
   ]
  },
  {
   "cell_type": "code",
   "execution_count": 18,
   "metadata": {},
   "outputs": [
    {
     "name": "stdout",
     "output_type": "stream",
     "text": [
      "name of the stuent  naveen\n",
      "name of the stuent  jay\n",
      "name of the stuent  himnashu \n",
      "name of the stuent  prakash \n"
     ]
    }
   ],
   "source": [
    "pawan.name_Parsing()"
   ]
  },
  {
   "cell_type": "markdown",
   "metadata": {},
   "source": [
    "## task"
   ]
  },
  {
   "cell_type": "code",
   "execution_count": 78,
   "metadata": {},
   "outputs": [],
   "source": [
    "import logging as lg\n",
    "lg.basicConfig(filename=\"OOPS.log\",level=lg.ERROR)\n",
    "class data:\n",
    "    #level 1\n",
    "    def __init__(self,filename,filetype,date,size):\n",
    "        self.filename=filename\n",
    "        self.filetype=filetype\n",
    "        self.date=date\n",
    "        self.size=size\n",
    "    def file_open(a,filename):\n",
    "        #create file if not exist\n",
    "        try:\n",
    "            f=open(a.filename,\"w\")\n",
    "            f.write(\"YOyo we are writing into file.\")\n",
    "            f.close()\n",
    "            #write data in file\n",
    "        except Exception as e:\n",
    "            a.logging(e)\n",
    "    def file_read(b,filename):\n",
    "        try:\n",
    "            f=open(b.filename,\"r\")\n",
    "            print(f.read())\n",
    "            f.close()\n",
    "            #read file\n",
    "        except Exception as e:\n",
    "            b.logging(e)\n",
    "    def file_append(c,filename):\n",
    "        try:\n",
    "            f=open(c.filename,\"a\")\n",
    "            f.write(\" Yo we are appending into file.\")\n",
    "            f.close()\n",
    "            #append new data in same file and show\n",
    "        except Exception as e:\n",
    "            c.logging(e)        \n",
    "    def __str__(sef):\n",
    "        return \"Data class created\"\n",
    "    def logging(self,log):\n",
    "        lg.error(log)\n",
    "        \n",
    "        \n",
    "        \n",
    "    "
   ]
  },
  {
   "cell_type": "code",
   "execution_count": null,
   "metadata": {},
   "outputs": [],
   "source": [
    "#level 2\n",
    "#implement exception handling and logger inside it, separate function for log"
   ]
  },
  {
   "cell_type": "code",
   "execution_count": 79,
   "metadata": {},
   "outputs": [],
   "source": [
    "file1=data(\"filename1\",\"txt\",\"2022\",\"1MB\")"
   ]
  },
  {
   "cell_type": "code",
   "execution_count": 80,
   "metadata": {},
   "outputs": [],
   "source": [
    "file1.file_open(\"filename\")"
   ]
  },
  {
   "cell_type": "code",
   "execution_count": 81,
   "metadata": {},
   "outputs": [
    {
     "name": "stdout",
     "output_type": "stream",
     "text": [
      "YOyo we are writing into file.\n"
     ]
    }
   ],
   "source": [
    "file1.file_read(\"filename\")"
   ]
  },
  {
   "cell_type": "code",
   "execution_count": 82,
   "metadata": {},
   "outputs": [],
   "source": [
    "file1.file_append(\"filename\")"
   ]
  },
  {
   "cell_type": "code",
   "execution_count": 83,
   "metadata": {},
   "outputs": [
    {
     "name": "stdout",
     "output_type": "stream",
     "text": [
      "YOyo we are writing into file. Yo we are appending into file.\n"
     ]
    }
   ],
   "source": [
    "file1.file_read(\"filename\")"
   ]
  },
  {
   "cell_type": "code",
   "execution_count": null,
   "metadata": {},
   "outputs": [],
   "source": []
  },
  {
   "cell_type": "code",
   "execution_count": null,
   "metadata": {},
   "outputs": [],
   "source": []
  },
  {
   "cell_type": "code",
   "execution_count": null,
   "metadata": {},
   "outputs": [],
   "source": []
  },
  {
   "cell_type": "code",
   "execution_count": null,
   "metadata": {},
   "outputs": [],
   "source": []
  },
  {
   "cell_type": "code",
   "execution_count": null,
   "metadata": {},
   "outputs": [],
   "source": []
  },
  {
   "cell_type": "code",
   "execution_count": null,
   "metadata": {},
   "outputs": [],
   "source": []
  },
  {
   "cell_type": "code",
   "execution_count": null,
   "metadata": {},
   "outputs": [],
   "source": []
  },
  {
   "cell_type": "code",
   "execution_count": null,
   "metadata": {},
   "outputs": [],
   "source": []
  },
  {
   "cell_type": "code",
   "execution_count": null,
   "metadata": {},
   "outputs": [],
   "source": []
  },
  {
   "cell_type": "code",
   "execution_count": null,
   "metadata": {},
   "outputs": [],
   "source": []
  },
  {
   "cell_type": "code",
   "execution_count": null,
   "metadata": {},
   "outputs": [],
   "source": []
  },
  {
   "cell_type": "code",
   "execution_count": null,
   "metadata": {},
   "outputs": [],
   "source": []
  },
  {
   "cell_type": "code",
   "execution_count": null,
   "metadata": {},
   "outputs": [],
   "source": []
  },
  {
   "cell_type": "code",
   "execution_count": null,
   "metadata": {},
   "outputs": [],
   "source": []
  },
  {
   "cell_type": "code",
   "execution_count": null,
   "metadata": {},
   "outputs": [],
   "source": []
  },
  {
   "cell_type": "code",
   "execution_count": null,
   "metadata": {},
   "outputs": [],
   "source": []
  },
  {
   "cell_type": "code",
   "execution_count": null,
   "metadata": {},
   "outputs": [],
   "source": []
  },
  {
   "cell_type": "code",
   "execution_count": null,
   "metadata": {},
   "outputs": [],
   "source": []
  }
 ],
 "metadata": {
  "kernelspec": {
   "display_name": "Python 3 (ipykernel)",
   "language": "python",
   "name": "python3"
  },
  "language_info": {
   "codemirror_mode": {
    "name": "ipython",
    "version": 3
   },
   "file_extension": ".py",
   "mimetype": "text/x-python",
   "name": "python",
   "nbconvert_exporter": "python",
   "pygments_lexer": "ipython3",
   "version": "3.9.7"
  }
 },
 "nbformat": 4,
 "nbformat_minor": 4
}
