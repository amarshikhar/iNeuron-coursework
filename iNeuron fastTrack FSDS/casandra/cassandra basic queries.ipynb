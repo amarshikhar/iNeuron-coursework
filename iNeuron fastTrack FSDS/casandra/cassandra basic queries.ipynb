{
 "cells": [
  {
   "cell_type": "code",
   "execution_count": 54,
   "metadata": {},
   "outputs": [
    {
     "name": "stdout",
     "output_type": "stream",
     "text": [
      "Requirement already satisfied: cassandra-driver in c:\\users\\admin\\anaconda3\\lib\\site-packages (3.25.0)\n",
      "Requirement already satisfied: geomet<0.3,>=0.1 in c:\\users\\admin\\anaconda3\\lib\\site-packages (from cassandra-driver) (0.2.1.post1)\n",
      "Requirement already satisfied: six>=1.9 in c:\\users\\admin\\anaconda3\\lib\\site-packages (from cassandra-driver) (1.15.0)\n",
      "Requirement already satisfied: click in c:\\users\\admin\\anaconda3\\lib\\site-packages (from geomet<0.3,>=0.1->cassandra-driver) (7.1.2)\n"
     ]
    }
   ],
   "source": [
    "!pip install cassandra-driver"
   ]
  },
  {
   "cell_type": "code",
   "execution_count": 55,
   "metadata": {},
   "outputs": [
    {
     "name": "stdout",
     "output_type": "stream",
     "text": [
      "3.25.0\n"
     ]
    }
   ],
   "source": [
    "import cassandra\n",
    "print(cassandra.__version__)"
   ]
  },
  {
   "cell_type": "code",
   "execution_count": 56,
   "metadata": {},
   "outputs": [
    {
     "name": "stdout",
     "output_type": "stream",
     "text": [
      "<cassandra.cluster.ResultSet object at 0x0000017ABE58BC10>\n"
     ]
    }
   ],
   "source": [
    "#FOR CONNECTING TO CLOUD SYSTEM\n",
    "from cassandra.cluster import Cluster\n",
    "from cassandra.auth import PlainTextAuthProvider\n",
    "\n",
    "cloud_config= {'secure_connect_bundle':r'C:\\Users\\Admin\\Downloads\\secure-connect-test.zip'}\n",
    "auth_provider = PlainTextAuthProvider('xbCLnGiTgbFemYjnNKyXmdJk', 'uZQFsScneNQ8+WhqNmLehyRXNZ4HZ233ktFIw1fkCulK,czUQ7hGkJJze4lzHU2Mcl7vOMm56,7sQJYiFLIUwQzjw4BEeWufXeaMC8vG1exmzGaoQ+glmBLW8+48tIAd')\n",
    "cluster = Cluster(cloud=cloud_config, auth_provider=auth_provider)\n",
    "session = cluster.connect()\n",
    "\n",
    "row = session.execute(\"select release_version from system.local\")\n",
    "print(row)"
   ]
  },
  {
   "cell_type": "code",
   "execution_count": 1,
   "metadata": {},
   "outputs": [
    {
     "name": "stdout",
     "output_type": "stream",
     "text": [
      "<cassandra.cluster.ResultSet object at 0x00000208F7F11130>\n"
     ]
    }
   ],
   "source": [
    "# FOR CONNECTING TO LOCAL SYSYTEM\n",
    "from cassandra.cluster import Cluster\n",
    "#from cassandra.auth import PlainTextAuthProvider\n",
    "\n",
    "#cloud_config= {'secure_connect_bundle':r'C:\\Users\\Admin\\Downloads\\secure-connect-test.zip'}\n",
    "#auth_provider = PlainTextAuthProvider('xbCLnGiTgbFemYjnNKyXmdJk', 'uZQFsScneNQ8+WhqNmLehyRXNZ4HZ233ktFIw1fkCulK,czUQ7hGkJJze4lzHU2Mcl7vOMm56,7sQJYiFLIUwQzjw4BEeWufXeaMC8vG1exmzGaoQ+glmBLW8+48tIAd')\n",
    "cluster = Cluster()\n",
    "session = cluster.connect()\n",
    "\n",
    "row = session.execute(\"select release_version from system.local\")\n",
    "print(row)\n"
   ]
  },
  {
   "cell_type": "code",
   "execution_count": 3,
   "metadata": {},
   "outputs": [],
   "source": [
    "# create keyspace in database\n",
    "row = session.execute(\"CREATE KEYSPACE home WITH replication = {'class': 'SimpleStrategy', 'replication_factor' : 4};\")\n"
   ]
  },
  {
   "cell_type": "code",
   "execution_count": 4,
   "metadata": {},
   "outputs": [],
   "source": [
    "#use keyspace\n",
    "row=session.execute(\"use home;\")"
   ]
  },
  {
   "cell_type": "code",
   "execution_count": 5,
   "metadata": {},
   "outputs": [],
   "source": [
    "# alter keyspace\n",
    "row=session.execute(\"ALTER KEYSPACE home WITH replication = {'class': 'SimpleStrategy', 'replication_factor' : 3};\")\n"
   ]
  },
  {
   "cell_type": "code",
   "execution_count": 6,
   "metadata": {},
   "outputs": [],
   "source": [
    "#dropping the keyspace\n",
    "row=session.execute(\"DROP KEYSPACE home;\")"
   ]
  },
  {
   "cell_type": "code",
   "execution_count": 8,
   "metadata": {},
   "outputs": [
    {
     "name": "stdout",
     "output_type": "stream",
     "text": [
      "Error from server: code=2200 [Invalid query] message=\"Keyspace 'home' does not exist\"\n"
     ]
    }
   ],
   "source": [
    "try:\n",
    "    row=session.execute(\"use home;\")\n",
    "except Exception as e:\n",
    "    print(e)"
   ]
  },
  {
   "cell_type": "code",
   "execution_count": 9,
   "metadata": {},
   "outputs": [],
   "source": [
    "row = session.execute(\"CREATE KEYSPACE home WITH replication = {'class': 'SimpleStrategy', 'replication_factor' : 4};\")"
   ]
  },
  {
   "cell_type": "code",
   "execution_count": 10,
   "metadata": {},
   "outputs": [],
   "source": [
    "#creating table in the keyspace\n",
    "row=session.execute(\"CREATE TABLE Members(id int PRIMARY KEY,name text,age int,height int);\")"
   ]
  },
  {
   "cell_type": "code",
   "execution_count": 11,
   "metadata": {},
   "outputs": [],
   "source": [
    "#inserting into table\n",
    "row=session.execute(\"INSERT INTO Members(id,name,age,height) VALUES (1,'mohit',25,160);\")"
   ]
  },
  {
   "cell_type": "code",
   "execution_count": 13,
   "metadata": {},
   "outputs": [],
   "source": [
    "row=session.execute(\"INSERT INTO Members(id,name,age,height) VALUES (2,'shubham',26,165);\")\n",
    "row=session.execute(\"INSERT INTO Members(id,name,age,height) VALUES (3,'aradhana',25,142);\")\n",
    "row=session.execute(\"INSERT INTO Members(id,name,age,height) VALUES (4,'rakesh',55,157);\")\n",
    "row=session.execute(\"INSERT INTO Members(id,name,age,height) VALUES (5,'poonam',52,145);\")\n",
    "row=session.execute(\"INSERT INTO Members(id,name,age,height) VALUES (6,'seema',30,145);\")"
   ]
  },
  {
   "cell_type": "code",
   "execution_count": 15,
   "metadata": {},
   "outputs": [
    {
     "name": "stdout",
     "output_type": "stream",
     "text": [
      "Row(id=5, age=52, height=145, name='poonam')\n",
      "Row(id=1, age=25, height=160, name='mohit')\n",
      "Row(id=2, age=26, height=165, name='shubham')\n",
      "Row(id=4, age=55, height=157, name='rakesh')\n",
      "Row(id=6, age=30, height=145, name='seema')\n",
      "Row(id=3, age=25, height=142, name='aradhana')\n"
     ]
    }
   ],
   "source": [
    "#view the data in table\n",
    "row=session.execute(\"select * from Members;\")\n",
    "for i in row:\n",
    "    print(i)"
   ]
  },
  {
   "cell_type": "code",
   "execution_count": 16,
   "metadata": {},
   "outputs": [],
   "source": [
    "#not inserting value in some column\n",
    "row=session.execute(\"INSERT INTO Members(id,name,age) VALUES (9,'sakshi',32);\")"
   ]
  },
  {
   "cell_type": "code",
   "execution_count": 17,
   "metadata": {},
   "outputs": [
    {
     "name": "stdout",
     "output_type": "stream",
     "text": [
      "Row(id=5, age=52, height=145, name='poonam')\n",
      "Row(id=1, age=25, height=160, name='mohit')\n",
      "Row(id=2, age=26, height=165, name='shubham')\n",
      "Row(id=4, age=55, height=157, name='rakesh')\n",
      "Row(id=6, age=30, height=145, name='seema')\n",
      "Row(id=9, age=32, height=None, name='sakshi')\n",
      "Row(id=3, age=25, height=142, name='aradhana')\n"
     ]
    }
   ],
   "source": [
    "#view the data in table \n",
    "row=session.execute(\"select * from Members;\")\n",
    "for i in row:\n",
    "    print(i)\n",
    "#null where data not given"
   ]
  },
  {
   "cell_type": "code",
   "execution_count": 19,
   "metadata": {},
   "outputs": [],
   "source": [
    "#alter existing table (adding more columns to table)\n",
    "row=session.execute(\"ALTER TABLE Members ADD email varchar;\")"
   ]
  },
  {
   "cell_type": "code",
   "execution_count": 20,
   "metadata": {},
   "outputs": [
    {
     "name": "stdout",
     "output_type": "stream",
     "text": [
      "Row(id=5, age=52, email=None, height=145, name='poonam')\n",
      "Row(id=1, age=25, email=None, height=160, name='mohit')\n",
      "Row(id=2, age=26, email=None, height=165, name='shubham')\n",
      "Row(id=4, age=55, email=None, height=157, name='rakesh')\n",
      "Row(id=6, age=30, email=None, height=145, name='seema')\n",
      "Row(id=9, age=32, email=None, height=None, name='sakshi')\n",
      "Row(id=3, age=25, email=None, height=142, name='aradhana')\n"
     ]
    }
   ],
   "source": [
    "row=session.execute(\"select * from Members;\")\n",
    "for i in row:\n",
    "    print(i)"
   ]
  },
  {
   "cell_type": "code",
   "execution_count": 29,
   "metadata": {},
   "outputs": [],
   "source": [
    "#dropping the table\n",
    "row=session.execute(\"DROP TABLE if exists Member;\")"
   ]
  },
  {
   "cell_type": "code",
   "execution_count": 32,
   "metadata": {},
   "outputs": [],
   "source": [
    "#truncating (removing all data from table)\n",
    "row=session.execute(\"TRUNCATE Members;\")"
   ]
  },
  {
   "cell_type": "code",
   "execution_count": 33,
   "metadata": {},
   "outputs": [],
   "source": [
    "#table is empty now\n",
    "for i in row:\n",
    "    print(i)"
   ]
  },
  {
   "cell_type": "code",
   "execution_count": 41,
   "metadata": {},
   "outputs": [],
   "source": [
    "#INSERING DATA \n",
    "row=session.execute(\"INSERT INTO Members(id,name,age,height,email) VALUES (2,'shubham',26,165,'memohit@gmail.com');\")\n",
    "row=session.execute(\"INSERT INTO Members(id,name,age,height) VALUES (3,'aradhana',25,142);\")\n",
    "row=session.execute(\"INSERT INTO Members(id,name,age,height) VALUES (4,'rakesh',55,157);\")\n",
    "row=session.execute(\"INSERT INTO Members(id,name,age,height) VALUES (5,'poonam',52,145);\")\n",
    "row=session.execute(\"INSERT INTO Members(id,name,age,height) VALUES (6,'seema',30,145);\")"
   ]
  },
  {
   "cell_type": "code",
   "execution_count": 54,
   "metadata": {},
   "outputs": [],
   "source": [
    "#update existing table \n",
    "row=session.execute(\"UPDATE home.Members SET name= 'Mohit Raghav',age = 28 WHERE id=1;\")\n"
   ]
  },
  {
   "cell_type": "code",
   "execution_count": 55,
   "metadata": {},
   "outputs": [
    {
     "name": "stdout",
     "output_type": "stream",
     "text": [
      "Row(id=5, age=52, email=None, height=145, name='poonam')\n",
      "Row(id=1, age=28, email=None, height=None, name='Mohit Raghav')\n",
      "Row(id=2, age=26, email='memohit@gmail.com', height=165, name='shubham')\n",
      "Row(id=4, age=55, email=None, height=157, name='rakesh')\n",
      "Row(id=6, age=30, email=None, height=145, name='seema')\n",
      "Row(id=3, age=25, email=None, height=142, name='aradhana')\n"
     ]
    }
   ],
   "source": [
    "#view the data in table \n",
    "row=session.execute(\"select * from Members;\")\n",
    "for i in row:\n",
    "    print(i)"
   ]
  },
  {
   "cell_type": "code",
   "execution_count": 56,
   "metadata": {},
   "outputs": [],
   "source": [
    "#delete a particular row or a part of row\n",
    "row=session.execute(\"DELETE age FROM Members WHERE id=3;\")\n"
   ]
  },
  {
   "cell_type": "code",
   "execution_count": 57,
   "metadata": {},
   "outputs": [
    {
     "name": "stdout",
     "output_type": "stream",
     "text": [
      "Row(id=5, age=52, email=None, height=145, name='poonam')\n",
      "Row(id=1, age=28, email=None, height=None, name='Mohit Raghav')\n",
      "Row(id=2, age=26, email='memohit@gmail.com', height=165, name='shubham')\n",
      "Row(id=4, age=55, email=None, height=157, name='rakesh')\n",
      "Row(id=6, age=30, email=None, height=145, name='seema')\n",
      "Row(id=3, age=None, email=None, height=142, name='aradhana')\n"
     ]
    }
   ],
   "source": [
    "#view the data in table \n",
    "row=session.execute(\"select * from Members;\")\n",
    "for i in row:\n",
    "    print(i)"
   ]
  },
  {
   "cell_type": "code",
   "execution_count": 65,
   "metadata": {},
   "outputs": [],
   "source": [
    "#selecting particular data\n",
    "row=session.execute(\"SELECT name, age FROM Members WHERE id = 1;\")"
   ]
  },
  {
   "cell_type": "code",
   "execution_count": 66,
   "metadata": {},
   "outputs": [
    {
     "name": "stdout",
     "output_type": "stream",
     "text": [
      "Row(name='Mohit Raghav', age=28)\n"
     ]
    }
   ],
   "source": [
    "for i in row:\n",
    "    print(i)"
   ]
  },
  {
   "cell_type": "code",
   "execution_count": null,
   "metadata": {},
   "outputs": [],
   "source": []
  }
 ],
 "metadata": {
  "kernelspec": {
   "display_name": "Python 3",
   "language": "python",
   "name": "python3"
  },
  "language_info": {
   "codemirror_mode": {
    "name": "ipython",
    "version": 3
   },
   "file_extension": ".py",
   "mimetype": "text/x-python",
   "name": "python",
   "nbconvert_exporter": "python",
   "pygments_lexer": "ipython3",
   "version": "3.8.5"
  }
 },
 "nbformat": 4,
 "nbformat_minor": 5
}
